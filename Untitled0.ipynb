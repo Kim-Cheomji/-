{
  "nbformat": 4,
  "nbformat_minor": 0,
  "metadata": {
    "colab": {
      "provenance": [],
      "authorship_tag": "ABX9TyPRS6kgi+/W+oDSsu8eF6wc",
      "include_colab_link": true
    },
    "kernelspec": {
      "name": "python3",
      "display_name": "Python 3"
    },
    "language_info": {
      "name": "python"
    }
  },
  "cells": [
    {
      "cell_type": "markdown",
      "metadata": {
        "id": "view-in-github",
        "colab_type": "text"
      },
      "source": [
        "<a href=\"https://colab.research.google.com/github/Kim-Cheomji/-/blob/main/Untitled0.ipynb\" target=\"_parent\"><img src=\"https://colab.research.google.com/assets/colab-badge.svg\" alt=\"Open In Colab\"/></a>"
      ]
    },
    {
      "cell_type": "markdown",
      "source": [
        "#2022.12.29\n",
        "#빅데이터 마케팅 전문가 과정\n",
        "#구진모"
      ],
      "metadata": {
        "id": "jJOGt47bNg2F"
      }
    },
    {
      "cell_type": "code",
      "source": [
        "print(\"Hello would\")"
      ],
      "metadata": {
        "colab": {
          "base_uri": "https://localhost:8080/"
        },
        "id": "JkCAnYKqPC9D",
        "outputId": "f6182fc1-23f1-47e6-9ccf-2f5e979e7e86"
      },
      "execution_count": null,
      "outputs": [
        {
          "output_type": "stream",
          "name": "stdout",
          "text": [
            "Hello would\n"
          ]
        }
      ]
    },
    {
      "cell_type": "code",
      "source": [
        "a=\"python\""
      ],
      "metadata": {
        "id": "9pP9ZkMVPPKo"
      },
      "execution_count": null,
      "outputs": []
    },
    {
      "cell_type": "code",
      "source": [
        "print(a)"
      ],
      "metadata": {
        "colab": {
          "base_uri": "https://localhost:8080/"
        },
        "id": "7R1XfJrcPbbR",
        "outputId": "12704466-a1e1-40e7-d975-346c964c5fbb"
      },
      "execution_count": null,
      "outputs": [
        {
          "output_type": "stream",
          "name": "stdout",
          "text": [
            "python\n"
          ]
        }
      ]
    },
    {
      "cell_type": "code",
      "source": [
        "del a"
      ],
      "metadata": {
        "id": "Aaea0uoiPpfF"
      },
      "execution_count": null,
      "outputs": []
    },
    {
      "cell_type": "markdown",
      "source": [
        "print(a)"
      ],
      "metadata": {
        "id": "U7NLlOYgQAU6"
      }
    },
    {
      "cell_type": "code",
      "source": [
        "a=2"
      ],
      "metadata": {
        "id": "G6hoywboQE0l"
      },
      "execution_count": null,
      "outputs": []
    },
    {
      "cell_type": "markdown",
      "source": [
        "**print**(a)"
      ],
      "metadata": {
        "id": "rEozRItMQbdt"
      }
    },
    {
      "cell_type": "code",
      "source": [
        "print(a)"
      ],
      "metadata": {
        "colab": {
          "base_uri": "https://localhost:8080/"
        },
        "id": "vj6-bwfDQfqZ",
        "outputId": "41802d74-4c71-48f8-8f3d-ea6a93e87c32"
      },
      "execution_count": null,
      "outputs": [
        {
          "output_type": "stream",
          "name": "stdout",
          "text": [
            "2\n"
          ]
        }
      ]
    },
    {
      "cell_type": "code",
      "source": [
        "b=4"
      ],
      "metadata": {
        "id": "1qqz8JC2Qkz_"
      },
      "execution_count": null,
      "outputs": []
    },
    {
      "cell_type": "code",
      "source": [
        "print(a+b)"
      ],
      "metadata": {
        "colab": {
          "base_uri": "https://localhost:8080/"
        },
        "id": "gmmC-1oAQqXR",
        "outputId": "0f56e9f8-d52d-49b1-f286-9a442cbb265f"
      },
      "execution_count": null,
      "outputs": [
        {
          "output_type": "stream",
          "name": "stdout",
          "text": [
            "6\n"
          ]
        }
      ]
    },
    {
      "cell_type": "code",
      "source": [
        "a*b"
      ],
      "metadata": {
        "colab": {
          "base_uri": "https://localhost:8080/"
        },
        "id": "ucTmrEVUQ4XP",
        "outputId": "01cc7ef8-2c0f-42c2-ae75-7edea80838bf"
      },
      "execution_count": null,
      "outputs": [
        {
          "output_type": "execute_result",
          "data": {
            "text/plain": [
              "8"
            ]
          },
          "metadata": {},
          "execution_count": 170
        }
      ]
    },
    {
      "cell_type": "code",
      "source": [
        "a/b"
      ],
      "metadata": {
        "colab": {
          "base_uri": "https://localhost:8080/"
        },
        "id": "06lGJUxeRF0F",
        "outputId": "e4ae676d-96e6-4216-ab71-7ff4a9cbddbd"
      },
      "execution_count": null,
      "outputs": [
        {
          "output_type": "execute_result",
          "data": {
            "text/plain": [
              "0.5"
            ]
          },
          "metadata": {},
          "execution_count": 171
        }
      ]
    },
    {
      "cell_type": "code",
      "source": [
        "a=123"
      ],
      "metadata": {
        "id": "JEID67FCRMv_"
      },
      "execution_count": null,
      "outputs": []
    },
    {
      "cell_type": "code",
      "source": [
        "type(a)"
      ],
      "metadata": {
        "colab": {
          "base_uri": "https://localhost:8080/"
        },
        "id": "snA3Aaz0RVwi",
        "outputId": "556cdc43-8ca8-4df8-9af2-7bae07a06912"
      },
      "execution_count": null,
      "outputs": [
        {
          "output_type": "execute_result",
          "data": {
            "text/plain": [
              "int"
            ]
          },
          "metadata": {},
          "execution_count": 173
        }
      ]
    },
    {
      "cell_type": "code",
      "source": [
        "b=123.1"
      ],
      "metadata": {
        "id": "rukGJFAzRJh4"
      },
      "execution_count": null,
      "outputs": []
    },
    {
      "cell_type": "code",
      "source": [
        "type(b)"
      ],
      "metadata": {
        "colab": {
          "base_uri": "https://localhost:8080/"
        },
        "id": "WXyTUngMRixA",
        "outputId": "b510e575-a396-4970-dabb-935226e9dcfa"
      },
      "execution_count": null,
      "outputs": [
        {
          "output_type": "execute_result",
          "data": {
            "text/plain": [
              "float"
            ]
          },
          "metadata": {},
          "execution_count": 175
        }
      ]
    },
    {
      "cell_type": "code",
      "source": [
        "c=a+b"
      ],
      "metadata": {
        "id": "SyqEXC3IRpph"
      },
      "execution_count": null,
      "outputs": []
    },
    {
      "cell_type": "code",
      "source": [
        "type(c)"
      ],
      "metadata": {
        "colab": {
          "base_uri": "https://localhost:8080/"
        },
        "id": "JIyiWInORxAn",
        "outputId": "7d8d2d00-9d7c-4cd4-c138-6ee966a16e08"
      },
      "execution_count": null,
      "outputs": [
        {
          "output_type": "execute_result",
          "data": {
            "text/plain": [
              "float"
            ]
          },
          "metadata": {},
          "execution_count": 177
        }
      ]
    },
    {
      "cell_type": "code",
      "source": [
        "type(int(c))"
      ],
      "metadata": {
        "colab": {
          "base_uri": "https://localhost:8080/"
        },
        "id": "MwOZR_l-R8lU",
        "outputId": "ceac9f71-23ec-4315-d9d8-04ca40db18e4"
      },
      "execution_count": null,
      "outputs": [
        {
          "output_type": "execute_result",
          "data": {
            "text/plain": [
              "int"
            ]
          },
          "metadata": {},
          "execution_count": 178
        }
      ]
    },
    {
      "cell_type": "code",
      "source": [
        "d=\"python\""
      ],
      "metadata": {
        "id": "vlFgYoz-SCUu"
      },
      "execution_count": null,
      "outputs": []
    },
    {
      "cell_type": "code",
      "source": [
        "type(d)"
      ],
      "metadata": {
        "colab": {
          "base_uri": "https://localhost:8080/"
        },
        "id": "XeBAVYqwSNZi",
        "outputId": "2b073481-5fb6-4838-b0d7-d91d8674ff72"
      },
      "execution_count": null,
      "outputs": [
        {
          "output_type": "execute_result",
          "data": {
            "text/plain": [
              "str"
            ]
          },
          "metadata": {},
          "execution_count": 180
        }
      ]
    },
    {
      "cell_type": "code",
      "source": [
        "3**20"
      ],
      "metadata": {
        "colab": {
          "base_uri": "https://localhost:8080/"
        },
        "id": "YgQFogqWSagm",
        "outputId": "a7adad37-de24-4fc0-e79c-b974a3620bed"
      },
      "execution_count": null,
      "outputs": [
        {
          "output_type": "execute_result",
          "data": {
            "text/plain": [
              "3486784401"
            ]
          },
          "metadata": {},
          "execution_count": 181
        }
      ]
    },
    {
      "cell_type": "code",
      "source": [
        "3**0.5"
      ],
      "metadata": {
        "colab": {
          "base_uri": "https://localhost:8080/"
        },
        "id": "g9xw71pwSlPC",
        "outputId": "de22c2dd-66c2-43e1-8b08-c1b5ec818106"
      },
      "execution_count": null,
      "outputs": [
        {
          "output_type": "execute_result",
          "data": {
            "text/plain": [
              "1.7320508075688772"
            ]
          },
          "metadata": {},
          "execution_count": 182
        }
      ]
    },
    {
      "cell_type": "code",
      "source": [
        "13/4"
      ],
      "metadata": {
        "colab": {
          "base_uri": "https://localhost:8080/"
        },
        "id": "54Oxb6RnS45z",
        "outputId": "5e950ae0-d5d5-4b50-dd15-27fd5bd83483"
      },
      "execution_count": null,
      "outputs": [
        {
          "output_type": "execute_result",
          "data": {
            "text/plain": [
              "3.25"
            ]
          },
          "metadata": {},
          "execution_count": 183
        }
      ]
    },
    {
      "cell_type": "code",
      "source": [
        "13//4"
      ],
      "metadata": {
        "colab": {
          "base_uri": "https://localhost:8080/"
        },
        "id": "f5WXLUWmS77f",
        "outputId": "c110d0fd-8c5d-4cf9-8e80-64a87a0b0c4d"
      },
      "execution_count": null,
      "outputs": [
        {
          "output_type": "execute_result",
          "data": {
            "text/plain": [
              "3"
            ]
          },
          "metadata": {},
          "execution_count": 184
        }
      ]
    },
    {
      "cell_type": "code",
      "source": [
        "13%4"
      ],
      "metadata": {
        "colab": {
          "base_uri": "https://localhost:8080/"
        },
        "id": "BTCOaNv3TEGI",
        "outputId": "dcf440a2-914e-481d-9754-70faace83fe0"
      },
      "execution_count": null,
      "outputs": [
        {
          "output_type": "execute_result",
          "data": {
            "text/plain": [
              "1"
            ]
          },
          "metadata": {},
          "execution_count": 185
        }
      ]
    },
    {
      "cell_type": "code",
      "source": [
        "print(\"Ubion's the best.\")"
      ],
      "metadata": {
        "colab": {
          "base_uri": "https://localhost:8080/"
        },
        "id": "zG2iNb1STb4G",
        "outputId": "f6a7d077-edeb-4f61-91b9-4b1964d33665"
      },
      "execution_count": null,
      "outputs": [
        {
          "output_type": "stream",
          "name": "stdout",
          "text": [
            "Ubion's the best.\n"
          ]
        }
      ]
    },
    {
      "cell_type": "code",
      "source": [
        "print(\"ubion isn't the best.\")"
      ],
      "metadata": {
        "colab": {
          "base_uri": "https://localhost:8080/"
        },
        "id": "9W2ZAmYfTs3L",
        "outputId": "a4c6f0d2-23bc-4bc9-b1b1-b0f116658816"
      },
      "execution_count": null,
      "outputs": [
        {
          "output_type": "stream",
          "name": "stdout",
          "text": [
            "ubion isn't the best.\n"
          ]
        }
      ]
    },
    {
      "cell_type": "code",
      "source": [
        "print('ubion is the  best')"
      ],
      "metadata": {
        "colab": {
          "base_uri": "https://localhost:8080/"
        },
        "id": "mefZnbUoUCzD",
        "outputId": "5fd50cce-ad8d-42e9-ff0a-837581fd325b"
      },
      "execution_count": null,
      "outputs": [
        {
          "output_type": "stream",
          "name": "stdout",
          "text": [
            "ubion is the  best\n"
          ]
        }
      ]
    },
    {
      "cell_type": "code",
      "source": [
        "print('ubion isn\\'t the best.')"
      ],
      "metadata": {
        "colab": {
          "base_uri": "https://localhost:8080/"
        },
        "id": "QEoYjSXBT0Rv",
        "outputId": "e98ca78f-a995-4672-bf70-0f2ebd2eee9e"
      },
      "execution_count": null,
      "outputs": [
        {
          "output_type": "stream",
          "name": "stdout",
          "text": [
            "ubion isn't the best.\n"
          ]
        }
      ]
    },
    {
      "cell_type": "code",
      "source": [
        "print(\"ubion isn't the best.\\n ubion isn\\'t the best.\")"
      ],
      "metadata": {
        "colab": {
          "base_uri": "https://localhost:8080/"
        },
        "id": "7n3fKhWcUnph",
        "outputId": "d24d27f0-1a14-4c48-b260-54e9152f9aa5"
      },
      "execution_count": null,
      "outputs": [
        {
          "output_type": "stream",
          "name": "stdout",
          "text": [
            "ubion isn't the best.\n",
            " ubion isn't the best.\n"
          ]
        }
      ]
    },
    {
      "cell_type": "code",
      "source": [
        "a=\"ubion is the  best\""
      ],
      "metadata": {
        "id": "XzhUr2ybVtej"
      },
      "execution_count": null,
      "outputs": []
    },
    {
      "cell_type": "code",
      "source": [
        "b=\"ubion isn't the best\""
      ],
      "metadata": {
        "id": "1_KYjPbWV4OC"
      },
      "execution_count": null,
      "outputs": []
    },
    {
      "cell_type": "code",
      "source": [
        "ubion=a+b"
      ],
      "metadata": {
        "id": "mva25YK8V34Y"
      },
      "execution_count": null,
      "outputs": []
    },
    {
      "cell_type": "code",
      "source": [
        "print(ubion)"
      ],
      "metadata": {
        "colab": {
          "base_uri": "https://localhost:8080/"
        },
        "id": "nsiPohbhWL77",
        "outputId": "1e3acfe6-2d23-43be-a324-e9033f317984"
      },
      "execution_count": null,
      "outputs": [
        {
          "output_type": "stream",
          "name": "stdout",
          "text": [
            "ubion is the  bestubion isn't the best\n"
          ]
        }
      ]
    },
    {
      "cell_type": "code",
      "source": [
        "a*20"
      ],
      "metadata": {
        "colab": {
          "base_uri": "https://localhost:8080/",
          "height": 71
        },
        "id": "JgUGtZOUYlPa",
        "outputId": "a1f96d1b-bb7f-4c78-9983-020c58c5db1a"
      },
      "execution_count": null,
      "outputs": [
        {
          "output_type": "execute_result",
          "data": {
            "text/plain": [
              "'ubion is the  bestubion is the  bestubion is the  bestubion is the  bestubion is the  bestubion is the  bestubion is the  bestubion is the  bestubion is the  bestubion is the  bestubion is the  bestubion is the  bestubion is the  bestubion is the  bestubion is the  bestubion is the  bestubion is the  bestubion is the  bestubion is the  bestubion is the  best'"
            ],
            "application/vnd.google.colaboratory.intrinsic+json": {
              "type": "string"
            }
          },
          "metadata": {},
          "execution_count": 195
        }
      ]
    },
    {
      "cell_type": "code",
      "source": [
        "print(\"-\"*40)\n",
        "print(a*2)\n",
        "print(\"-\"*40)\n",
        "\n",
        "#잠은 죽어서 자"
      ],
      "metadata": {
        "colab": {
          "base_uri": "https://localhost:8080/"
        },
        "id": "z774Ptc9ZeGv",
        "outputId": "9e1f7abf-816e-492a-ab02-152b08bf9498"
      },
      "execution_count": null,
      "outputs": [
        {
          "output_type": "stream",
          "name": "stdout",
          "text": [
            "----------------------------------------\n",
            "ubion is the  bestubion is the  best\n",
            "----------------------------------------\n"
          ]
        }
      ]
    },
    {
      "cell_type": "code",
      "source": [
        "\"유비온은 최고의 교육기관이다.\"[0:3]\n",
        "#[a(행):b(열)] : a<=x <b\n",
        "#a보다 크거나 같고, b보다 작은 인덱스를 꺼내온다."
      ],
      "metadata": {
        "colab": {
          "base_uri": "https://localhost:8080/",
          "height": 35
        },
        "id": "8SSZCulcaMfq",
        "outputId": "1e0fa522-eca1-4c73-d938-a409eeb64333"
      },
      "execution_count": null,
      "outputs": [
        {
          "output_type": "execute_result",
          "data": {
            "text/plain": [
              "'유비온'"
            ],
            "application/vnd.google.colaboratory.intrinsic+json": {
              "type": "string"
            }
          },
          "metadata": {},
          "execution_count": 197
        }
      ]
    },
    {
      "cell_type": "code",
      "source": [
        "\"유비온은 최고의 교육기관이다.\"[-2]"
      ],
      "metadata": {
        "colab": {
          "base_uri": "https://localhost:8080/",
          "height": 35
        },
        "id": "Aj1ebdN4criR",
        "outputId": "c47cfcdd-fd13-4b2d-9d47-b71f770abf03"
      },
      "execution_count": null,
      "outputs": [
        {
          "output_type": "execute_result",
          "data": {
            "text/plain": [
              "'다'"
            ],
            "application/vnd.google.colaboratory.intrinsic+json": {
              "type": "string"
            }
          },
          "metadata": {},
          "execution_count": 198
        }
      ]
    },
    {
      "cell_type": "code",
      "source": [
        "\"유비온은 최고의 교육기관이다\"[0:-3]"
      ],
      "metadata": {
        "colab": {
          "base_uri": "https://localhost:8080/",
          "height": 35
        },
        "id": "kGIjOv34c3IE",
        "outputId": "ca8a306f-a692-472b-c602-db1ad1eea542"
      },
      "execution_count": null,
      "outputs": [
        {
          "output_type": "execute_result",
          "data": {
            "text/plain": [
              "'유비온은 최고의 교육기'"
            ],
            "application/vnd.google.colaboratory.intrinsic+json": {
              "type": "string"
            }
          },
          "metadata": {},
          "execution_count": 199
        }
      ]
    },
    {
      "cell_type": "code",
      "source": [
        "first_name=\"jinmo gu\"[:5]\n",
        "print(first_name)"
      ],
      "metadata": {
        "colab": {
          "base_uri": "https://localhost:8080/"
        },
        "id": "sRxpMVojd6Ze",
        "outputId": "60b37b23-d89c-4a9a-cced-c6e544f88655"
      },
      "execution_count": null,
      "outputs": [
        {
          "output_type": "stream",
          "name": "stdout",
          "text": [
            "jinmo\n"
          ]
        }
      ]
    },
    {
      "cell_type": "code",
      "source": [
        "last_name=\"jinmo gu\"[6:]\n",
        "print(last_name)"
      ],
      "metadata": {
        "colab": {
          "base_uri": "https://localhost:8080/"
        },
        "id": "HD7XNtitelg5",
        "outputId": "8bd6bbb9-6846-4d35-b3f5-2c81da7e6916"
      },
      "execution_count": null,
      "outputs": [
        {
          "output_type": "stream",
          "name": "stdout",
          "text": [
            "gu\n"
          ]
        }
      ]
    },
    {
      "cell_type": "code",
      "source": [
        "name=\"jinmo gu\"\n",
        "len(name)"
      ],
      "metadata": {
        "colab": {
          "base_uri": "https://localhost:8080/"
        },
        "id": "4oXn78oHfBhx",
        "outputId": "94563ad1-bb51-4dd7-9bd7-61b8b8fb8654"
      },
      "execution_count": null,
      "outputs": [
        {
          "output_type": "execute_result",
          "data": {
            "text/plain": [
              "8"
            ]
          },
          "metadata": {},
          "execution_count": 202
        }
      ]
    },
    {
      "cell_type": "code",
      "source": [
        "name.count(\"o\")\n",
        "     "
      ],
      "metadata": {
        "colab": {
          "base_uri": "https://localhost:8080/"
        },
        "id": "-sP99awHfLuL",
        "outputId": "f75da8e3-5c98-4eed-8053-7f9b6d6e1474"
      },
      "execution_count": null,
      "outputs": [
        {
          "output_type": "execute_result",
          "data": {
            "text/plain": [
              "1"
            ]
          },
          "metadata": {},
          "execution_count": 203
        }
      ]
    },
    {
      "cell_type": "code",
      "source": [
        "name.find(\"a\")"
      ],
      "metadata": {
        "colab": {
          "base_uri": "https://localhost:8080/"
        },
        "id": "euFfleSchuSZ",
        "outputId": "f4662390-e263-45e1-fe4d-49f4ddeb16d6"
      },
      "execution_count": null,
      "outputs": [
        {
          "output_type": "execute_result",
          "data": {
            "text/plain": [
              "-1"
            ]
          },
          "metadata": {},
          "execution_count": 204
        }
      ]
    },
    {
      "cell_type": "code",
      "source": [
        "a=\" \"\n",
        "a.join(\"jinmogu\")"
      ],
      "metadata": {
        "colab": {
          "base_uri": "https://localhost:8080/",
          "height": 35
        },
        "id": "Jh4kjEPxiB_h",
        "outputId": "be0185d1-7ca9-4132-a99c-741ab8297d7b"
      },
      "execution_count": null,
      "outputs": [
        {
          "output_type": "execute_result",
          "data": {
            "text/plain": [
              "'j i n m o g u'"
            ],
            "application/vnd.google.colaboratory.intrinsic+json": {
              "type": "string"
            }
          },
          "metadata": {},
          "execution_count": 205
        }
      ]
    },
    {
      "cell_type": "code",
      "source": [
        "name.upper()"
      ],
      "metadata": {
        "colab": {
          "base_uri": "https://localhost:8080/",
          "height": 35
        },
        "id": "CfUXwxPliTwO",
        "outputId": "bac2cd0f-4491-4cda-9000-b02bd4e0dca5"
      },
      "execution_count": null,
      "outputs": [
        {
          "output_type": "execute_result",
          "data": {
            "text/plain": [
              "'JINMO GU'"
            ],
            "application/vnd.google.colaboratory.intrinsic+json": {
              "type": "string"
            }
          },
          "metadata": {},
          "execution_count": 206
        }
      ]
    },
    {
      "cell_type": "code",
      "source": [
        "name.lower()"
      ],
      "metadata": {
        "colab": {
          "base_uri": "https://localhost:8080/",
          "height": 35
        },
        "id": "qxKgi7Njie7b",
        "outputId": "5912b723-7a2e-4008-e5d7-8bab2bd4cec8"
      },
      "execution_count": null,
      "outputs": [
        {
          "output_type": "execute_result",
          "data": {
            "text/plain": [
              "'jinmo gu'"
            ],
            "application/vnd.google.colaboratory.intrinsic+json": {
              "type": "string"
            }
          },
          "metadata": {},
          "execution_count": 207
        }
      ]
    },
    {
      "cell_type": "code",
      "source": [
        "name=\" jinmo gu \""
      ],
      "metadata": {
        "id": "_RdbUA1vnT_7"
      },
      "execution_count": null,
      "outputs": []
    },
    {
      "cell_type": "code",
      "source": [
        "name.strip(a)"
      ],
      "metadata": {
        "colab": {
          "base_uri": "https://localhost:8080/",
          "height": 35
        },
        "id": "xULO3SYynG2B",
        "outputId": "e904b9a2-bbfb-420e-aca4-f6c137fc827b"
      },
      "execution_count": null,
      "outputs": [
        {
          "output_type": "execute_result",
          "data": {
            "text/plain": [
              "'jinmo gu'"
            ],
            "application/vnd.google.colaboratory.intrinsic+json": {
              "type": "string"
            }
          },
          "metadata": {},
          "execution_count": 209
        }
      ]
    },
    {
      "cell_type": "code",
      "source": [
        "name.lstrip( a)\n"
      ],
      "metadata": {
        "colab": {
          "base_uri": "https://localhost:8080/",
          "height": 35
        },
        "id": "dX88e1jvnc9v",
        "outputId": "9c74c15a-7daf-4052-a1e1-cb6c0c35d9b0"
      },
      "execution_count": null,
      "outputs": [
        {
          "output_type": "execute_result",
          "data": {
            "text/plain": [
              "'jinmo gu '"
            ],
            "application/vnd.google.colaboratory.intrinsic+json": {
              "type": "string"
            }
          },
          "metadata": {},
          "execution_count": 210
        }
      ]
    },
    {
      "cell_type": "code",
      "source": [
        "name.rstrip(a )\n"
      ],
      "metadata": {
        "colab": {
          "base_uri": "https://localhost:8080/",
          "height": 35
        },
        "id": "DliSCZmtnl1c",
        "outputId": "2a5095c8-176b-4d27-8b60-35280d0c9880"
      },
      "execution_count": null,
      "outputs": [
        {
          "output_type": "execute_result",
          "data": {
            "text/plain": [
              "' jinmo gu'"
            ],
            "application/vnd.google.colaboratory.intrinsic+json": {
              "type": "string"
            }
          },
          "metadata": {},
          "execution_count": 211
        }
      ]
    },
    {
      "cell_type": "code",
      "source": [
        "name.replace(\"jinmo\",\"junpyo\")"
      ],
      "metadata": {
        "colab": {
          "base_uri": "https://localhost:8080/",
          "height": 35
        },
        "id": "7gR69wqMnqEf",
        "outputId": "63a20b0b-632d-432a-c0a5-fd727a3b128d"
      },
      "execution_count": null,
      "outputs": [
        {
          "output_type": "execute_result",
          "data": {
            "text/plain": [
              "' junpyo gu '"
            ],
            "application/vnd.google.colaboratory.intrinsic+json": {
              "type": "string"
            }
          },
          "metadata": {},
          "execution_count": 212
        }
      ]
    },
    {
      "cell_type": "code",
      "source": [
        "name.split()"
      ],
      "metadata": {
        "colab": {
          "base_uri": "https://localhost:8080/"
        },
        "id": "r5xJS3XooMQ6",
        "outputId": "c97eff8a-e9cd-4cc5-98a7-63949009a622"
      },
      "execution_count": null,
      "outputs": [
        {
          "output_type": "execute_result",
          "data": {
            "text/plain": [
              "['jinmo', 'gu']"
            ]
          },
          "metadata": {},
          "execution_count": 213
        }
      ]
    },
    {
      "cell_type": "code",
      "source": [
        "ubion=\"안녕하세요.안녕하세요.안녕하세요.안녕하세요.안녕하세요.안녕하세요.안녕하세요.안녕하세요.안녕하세요.안녕하세요.안녕하세요.\""
      ],
      "metadata": {
        "id": "SQs3c0zBpWxZ"
      },
      "execution_count": null,
      "outputs": []
    },
    {
      "cell_type": "code",
      "source": [
        "ubion.split(\".\")"
      ],
      "metadata": {
        "colab": {
          "base_uri": "https://localhost:8080/"
        },
        "id": "X1fJ3fQ_phka",
        "outputId": "95c98ab7-5e2a-4cf2-ec8d-3f24aa580a24"
      },
      "execution_count": null,
      "outputs": [
        {
          "output_type": "execute_result",
          "data": {
            "text/plain": [
              "['안녕하세요',\n",
              " '안녕하세요',\n",
              " '안녕하세요',\n",
              " '안녕하세요',\n",
              " '안녕하세요',\n",
              " '안녕하세요',\n",
              " '안녕하세요',\n",
              " '안녕하세요',\n",
              " '안녕하세요',\n",
              " '안녕하세요',\n",
              " '안녕하세요',\n",
              " '']"
            ]
          },
          "metadata": {},
          "execution_count": 215
        }
      ]
    },
    {
      "cell_type": "code",
      "source": [
        "article=\"송나라와 요나라가 갈등을 겪던 북송 초기, 한 패거리의 우두머리인 교봉(전쯔단 분)이 살인 누명을 쓰며 벌어지는 이야기를 그린 정통 무협 액션이다.\""
      ],
      "metadata": {
        "id": "evjQCriRpIsY"
      },
      "execution_count": null,
      "outputs": []
    },
    {
      "cell_type": "code",
      "source": [
        "article.split(\" \")"
      ],
      "metadata": {
        "colab": {
          "base_uri": "https://localhost:8080/"
        },
        "id": "Q4hXuWiAvmsN",
        "outputId": "09169c45-2982-4c76-df3a-80de8fe1a6d8"
      },
      "execution_count": null,
      "outputs": [
        {
          "output_type": "execute_result",
          "data": {
            "text/plain": [
              "['송나라와',\n",
              " '요나라가',\n",
              " '갈등을',\n",
              " '겪던',\n",
              " '북송',\n",
              " '초기,',\n",
              " '한',\n",
              " '패거리의',\n",
              " '우두머리인',\n",
              " '교봉(전쯔단',\n",
              " '분)이',\n",
              " '살인',\n",
              " '누명을',\n",
              " '쓰며',\n",
              " '벌어지는',\n",
              " '이야기를',\n",
              " '그린',\n",
              " '정통',\n",
              " '무협',\n",
              " '액션이다.']"
            ]
          },
          "metadata": {},
          "execution_count": 217
        }
      ]
    },
    {
      "cell_type": "code",
      "source": [
        "a=[1,2,3,4,5]\n",
        "a"
      ],
      "metadata": {
        "colab": {
          "base_uri": "https://localhost:8080/"
        },
        "id": "-lF2s5TepASG",
        "outputId": "be819763-99ae-403b-a056-b900a040630f"
      },
      "execution_count": null,
      "outputs": [
        {
          "output_type": "execute_result",
          "data": {
            "text/plain": [
              "[1, 2, 3, 4, 5]"
            ]
          },
          "metadata": {},
          "execution_count": 218
        }
      ]
    },
    {
      "cell_type": "code",
      "source": [
        "type(a)"
      ],
      "metadata": {
        "colab": {
          "base_uri": "https://localhost:8080/"
        },
        "id": "rMyPwH3xqmnX",
        "outputId": "cfc8007b-2f40-4a69-e29f-3f84d00487a5"
      },
      "execution_count": null,
      "outputs": [
        {
          "output_type": "execute_result",
          "data": {
            "text/plain": [
              "list"
            ]
          },
          "metadata": {},
          "execution_count": 219
        }
      ]
    },
    {
      "cell_type": "code",
      "source": [
        "b=(1,2,3,4,5)\n",
        "b"
      ],
      "metadata": {
        "colab": {
          "base_uri": "https://localhost:8080/"
        },
        "id": "2W909NOsqvEd",
        "outputId": "6289d973-9f5c-49d9-f0ec-9dbb27819ba0"
      },
      "execution_count": null,
      "outputs": [
        {
          "output_type": "execute_result",
          "data": {
            "text/plain": [
              "(1, 2, 3, 4, 5)"
            ]
          },
          "metadata": {},
          "execution_count": 220
        }
      ]
    },
    {
      "cell_type": "code",
      "source": [
        "type(b)"
      ],
      "metadata": {
        "colab": {
          "base_uri": "https://localhost:8080/"
        },
        "id": "BhDQQmS6q2_6",
        "outputId": "05ece75d-174a-4180-faa5-6d79540f580f"
      },
      "execution_count": null,
      "outputs": [
        {
          "output_type": "execute_result",
          "data": {
            "text/plain": [
              "tuple"
            ]
          },
          "metadata": {},
          "execution_count": 221
        }
      ]
    },
    {
      "cell_type": "code",
      "source": [
        "a.replace(3,4)\n",
        "a"
      ],
      "metadata": {
        "colab": {
          "base_uri": "https://localhost:8080/",
          "height": 190
        },
        "id": "9MJ9k7ryq-mA",
        "outputId": "b19080b4-d4d2-479f-c25d-35c887c9cb8f"
      },
      "execution_count": null,
      "outputs": [
        {
          "output_type": "error",
          "ename": "AttributeError",
          "evalue": "ignored",
          "traceback": [
            "\u001b[0;31m---------------------------------------------------------------------------\u001b[0m",
            "\u001b[0;31mAttributeError\u001b[0m                            Traceback (most recent call last)",
            "\u001b[0;32m<ipython-input-222-c64051c435cf>\u001b[0m in \u001b[0;36m<module>\u001b[0;34m\u001b[0m\n\u001b[0;32m----> 1\u001b[0;31m \u001b[0ma\u001b[0m\u001b[0;34m.\u001b[0m\u001b[0mreplace\u001b[0m\u001b[0;34m(\u001b[0m\u001b[0;36m3\u001b[0m\u001b[0;34m,\u001b[0m\u001b[0;36m4\u001b[0m\u001b[0;34m)\u001b[0m\u001b[0;34m\u001b[0m\u001b[0;34m\u001b[0m\u001b[0m\n\u001b[0m\u001b[1;32m      2\u001b[0m \u001b[0ma\u001b[0m\u001b[0;34m\u001b[0m\u001b[0;34m\u001b[0m\u001b[0m\n",
            "\u001b[0;31mAttributeError\u001b[0m: 'list' object has no attribute 'replace'"
          ]
        }
      ]
    },
    {
      "cell_type": "code",
      "source": [
        "b.replace(3,4)\n",
        "b"
      ],
      "metadata": {
        "id": "Ln-rzoaLq-P-"
      },
      "execution_count": null,
      "outputs": []
    },
    {
      "cell_type": "code",
      "source": [
        "a=[1,2,3,4,5]\n",
        "b=[\"1\",\"2\",\"3\"]\n",
        "a+b"
      ],
      "metadata": {
        "id": "b2_vDsJYrarw"
      },
      "execution_count": null,
      "outputs": []
    },
    {
      "cell_type": "code",
      "source": [
        "a*2"
      ],
      "metadata": {
        "id": "hwcp_U8YrqC_"
      },
      "execution_count": null,
      "outputs": []
    },
    {
      "cell_type": "code",
      "source": [
        "b*2"
      ],
      "metadata": {
        "id": "aAFQLw6crsNi"
      },
      "execution_count": null,
      "outputs": []
    },
    {
      "cell_type": "code",
      "source": [
        "c=b*2\n",
        "c"
      ],
      "metadata": {
        "id": "5FNa04T8r93_"
      },
      "execution_count": null,
      "outputs": []
    },
    {
      "cell_type": "code",
      "source": [
        "c[1]=\"3\""
      ],
      "metadata": {
        "id": "ns0hajfasEKJ"
      },
      "execution_count": null,
      "outputs": []
    },
    {
      "cell_type": "code",
      "source": [
        "c"
      ],
      "metadata": {
        "id": "FWUnhyxVsa4j"
      },
      "execution_count": null,
      "outputs": []
    },
    {
      "cell_type": "code",
      "source": [
        "b=(\"1\",\"2\",\"3\")"
      ],
      "metadata": {
        "id": "zn-je1dssNM8"
      },
      "execution_count": null,
      "outputs": []
    },
    {
      "cell_type": "code",
      "source": [
        "b[2]=\"2\"\n",
        "b"
      ],
      "metadata": {
        "id": "0iY_8nyKspzs"
      },
      "execution_count": null,
      "outputs": []
    },
    {
      "cell_type": "code",
      "source": [
        "len(a)"
      ],
      "metadata": {
        "id": "zEicKIpEsWqi"
      },
      "execution_count": null,
      "outputs": []
    },
    {
      "cell_type": "code",
      "source": [
        "len(b)"
      ],
      "metadata": {
        "id": "mD6B8zpqtwzx"
      },
      "execution_count": null,
      "outputs": []
    },
    {
      "cell_type": "code",
      "source": [
        "a[0:3]"
      ],
      "metadata": {
        "id": "i2hQF0wKty10"
      },
      "execution_count": null,
      "outputs": []
    },
    {
      "cell_type": "code",
      "source": [
        "del a"
      ],
      "metadata": {
        "id": "ypdUR2Owt8d0"
      },
      "execution_count": null,
      "outputs": []
    },
    {
      "cell_type": "code",
      "source": [
        "a"
      ],
      "metadata": {
        "id": "iFS2Q5GXt9yI"
      },
      "execution_count": null,
      "outputs": []
    },
    {
      "cell_type": "code",
      "source": [
        "a=[1,2,3,4,5]\n",
        "del a[0]1,6,4,8,7,9,5,3`"
      ],
      "metadata": {
        "id": "bOBm7KRyuCgp"
      },
      "execution_count": null,
      "outputs": []
    },
    {
      "cell_type": "code",
      "source": [
        "a=[1,2,3,4,5,6,7,8,9,10]\n",
        "a.append(11)\n",
        "a"
      ],
      "metadata": {
        "id": "l7vLGtnKytc3"
      },
      "execution_count": null,
      "outputs": []
    },
    {
      "cell_type": "code",
      "source": [
        "a=[1,3,4,6,8,9,7,5,2,10]\n",
        "a.append(11)\n",
        "a"
      ],
      "metadata": {
        "id": "ZzsRAPr1zXUo"
      },
      "execution_count": null,
      "outputs": []
    },
    {
      "cell_type": "code",
      "source": [
        "a.sort()\n",
        "a"
      ],
      "metadata": {
        "id": "3742Kf1HzemG"
      },
      "execution_count": null,
      "outputs": []
    },
    {
      "cell_type": "code",
      "source": [
        "a.reverse()\n",
        "a"
      ],
      "metadata": {
        "id": "XsGuP1YCziqv"
      },
      "execution_count": null,
      "outputs": []
    },
    {
      "cell_type": "code",
      "source": [
        "a"
      ],
      "metadata": {
        "id": "Lmw-KLHnz4ko"
      },
      "execution_count": null,
      "outputs": []
    },
    {
      "cell_type": "code",
      "source": [
        "a.index(6)"
      ],
      "metadata": {
        "id": "c-XvFltAzxI0"
      },
      "execution_count": null,
      "outputs": []
    },
    {
      "cell_type": "code",
      "source": [
        "a.index(2,6)\n"
      ],
      "metadata": {
        "id": "2ZaUgvQ30I0I"
      },
      "execution_count": null,
      "outputs": []
    },
    {
      "cell_type": "code",
      "source": [
        "a.insert(2,30)\n",
        "a"
      ],
      "metadata": {
        "id": "J_UiqlRp0nIN"
      },
      "execution_count": null,
      "outputs": []
    },
    {
      "cell_type": "code",
      "source": [
        "a.remove(30)\n"
      ],
      "metadata": {
        "id": "AmNYwHRQ0tfX"
      },
      "execution_count": null,
      "outputs": []
    },
    {
      "cell_type": "code",
      "source": [
        "a.pop()"
      ],
      "metadata": {
        "id": "qIJ568Lc1tFV"
      },
      "execution_count": null,
      "outputs": []
    },
    {
      "cell_type": "code",
      "source": [
        "a.pop(3)"
      ],
      "metadata": {
        "id": "0ajtwbgd2Dhd"
      },
      "execution_count": null,
      "outputs": []
    },
    {
      "cell_type": "code",
      "source": [
        "a"
      ],
      "metadata": {
        "id": "qRVrbih018Ht"
      },
      "execution_count": null,
      "outputs": []
    },
    {
      "cell_type": "code",
      "source": [
        "a.count(11)"
      ],
      "metadata": {
        "id": "Ef4IsZsS2LL9"
      },
      "execution_count": null,
      "outputs": []
    },
    {
      "cell_type": "code",
      "source": [
        "a=[1,2,3,4,5,5,5,6,]"
      ],
      "metadata": {
        "id": "pXfcW__R2XGp"
      },
      "execution_count": null,
      "outputs": []
    },
    {
      "cell_type": "code",
      "source": [
        "a.count(5)"
      ],
      "metadata": {
        "id": "Bxx7Qari2gN8"
      },
      "execution_count": null,
      "outputs": []
    },
    {
      "cell_type": "code",
      "source": [
        "len(a)"
      ],
      "metadata": {
        "id": "qibGwVKx2fhH"
      },
      "execution_count": null,
      "outputs": []
    },
    {
      "cell_type": "code",
      "source": [
        "import numpy as np\n"
      ],
      "metadata": {
        "id": "Ss0BNk3f2tyD"
      },
      "execution_count": null,
      "outputs": []
    },
    {
      "cell_type": "code",
      "source": [
        "matrix=[[1,2,3,4],[5,6,7,8],[9,10,11,12]]\n",
        "matrix\n",
        "np.array(matrix, int).shape"
      ],
      "metadata": {
        "id": "d0QDgnLF3PQl"
      },
      "execution_count": null,
      "outputs": []
    },
    {
      "cell_type": "code",
      "source": [
        "a=()"
      ],
      "metadata": {
        "id": "V1vhnS_63m3_"
      },
      "execution_count": null,
      "outputs": []
    },
    {
      "cell_type": "code",
      "source": [
        "b=(1,2,3)"
      ],
      "metadata": {
        "id": "tpoZnOcu3_1_"
      },
      "execution_count": null,
      "outputs": []
    },
    {
      "cell_type": "code",
      "source": [
        "c=(\"x\",\"y\",\"z\")"
      ],
      "metadata": {
        "id": "JkRlb2AL4DLd"
      },
      "execution_count": null,
      "outputs": []
    },
    {
      "cell_type": "code",
      "source": [
        "d=b+c"
      ],
      "metadata": {
        "id": "tSx8OqfL4I6h"
      },
      "execution_count": null,
      "outputs": []
    },
    {
      "cell_type": "code",
      "source": [
        "d"
      ],
      "metadata": {
        "id": "X_ad_spJ4MdQ"
      },
      "execution_count": null,
      "outputs": []
    },
    {
      "cell_type": "code",
      "source": [
        "a,b,c=(1),(2,3),(4,5)"
      ],
      "metadata": {
        "id": "b8v-nERT4Nkz"
      },
      "execution_count": null,
      "outputs": []
    },
    {
      "cell_type": "code",
      "source": [
        "print(a)"
      ],
      "metadata": {
        "id": "Lc4noCDo4dSr"
      },
      "execution_count": null,
      "outputs": []
    },
    {
      "cell_type": "code",
      "source": [
        "print(b)"
      ],
      "metadata": {
        "id": "uyZ7nzri4hRy"
      },
      "execution_count": null,
      "outputs": []
    },
    {
      "cell_type": "code",
      "source": [
        "print(c)"
      ],
      "metadata": {
        "id": "KlW589uy4i73"
      },
      "execution_count": null,
      "outputs": []
    },
    {
      "cell_type": "code",
      "source": [
        "a=(1,2,3,4)"
      ],
      "metadata": {
        "id": "3TxX2fBS4lTf"
      },
      "execution_count": null,
      "outputs": []
    },
    {
      "cell_type": "code",
      "source": [
        "del a[1]"
      ],
      "metadata": {
        "id": "e20QBoXK4qeb"
      },
      "execution_count": null,
      "outputs": []
    },
    {
      "cell_type": "code",
      "source": [
        "a={\"달러\":1400,\"엔화\":100}\n",
        "a"
      ],
      "metadata": {
        "id": "zfx-jTTZ4wAL"
      },
      "execution_count": null,
      "outputs": []
    },
    {
      "cell_type": "code",
      "source": [
        "a"
      ],
      "metadata": {
        "id": "Sl2dr3ey9K4Y"
      },
      "execution_count": null,
      "outputs": []
    },
    {
      "cell_type": "code",
      "source": [
        "a[\"달러\"]"
      ],
      "metadata": {
        "id": "PK_uEJqH8_7I"
      },
      "execution_count": null,
      "outputs": []
    },
    {
      "cell_type": "code",
      "source": [
        "print(a.get(\"달러\"))"
      ],
      "metadata": {
        "id": "y0L3Ipqn9SLd"
      },
      "execution_count": null,
      "outputs": []
    },
    {
      "cell_type": "code",
      "source": [
        "a.get(\"위안\",\"그런 거 없어\")"
      ],
      "metadata": {
        "id": "ZHXYBaZb9nd0"
      },
      "execution_count": null,
      "outputs": []
    },
    {
      "cell_type": "code",
      "source": [
        "a[\"위안\"]=300"
      ],
      "metadata": {
        "id": "en9xcr1_9x_E"
      },
      "execution_count": null,
      "outputs": []
    },
    {
      "cell_type": "code",
      "source": [
        "a"
      ],
      "metadata": {
        "id": "m6-DunBm98uo"
      },
      "execution_count": null,
      "outputs": []
    },
    {
      "cell_type": "code",
      "source": [
        "a.get(\"위안\",\"그런 거 없어\")"
      ],
      "metadata": {
        "id": "kQEiGGXS9-lU"
      },
      "execution_count": null,
      "outputs": []
    },
    {
      "cell_type": "code",
      "source": [
        "del a[\"엔화\"]"
      ],
      "metadata": {
        "id": "6QHIpaj2-G0N"
      },
      "execution_count": null,
      "outputs": []
    },
    {
      "cell_type": "code",
      "source": [
        "a={'달러':1400,'위안':300,'위안':320}"
      ],
      "metadata": {
        "id": "xw7ZVZ-x-Ll2"
      },
      "execution_count": null,
      "outputs": []
    },
    {
      "cell_type": "code",
      "source": [
        "ㄴ"
      ],
      "metadata": {
        "id": "fK4f5tiA-r26"
      },
      "execution_count": null,
      "outputs": []
    },
    {
      "cell_type": "code",
      "source": [
        "a.keys()"
      ],
      "metadata": {
        "id": "lLUVfV_O-40J"
      },
      "execution_count": null,
      "outputs": []
    },
    {
      "cell_type": "markdown",
      "source": [],
      "metadata": {
        "id": "VWpLFU39_Kw9"
      }
    },
    {
      "cell_type": "code",
      "source": [
        "a.values()"
      ],
      "metadata": {
        "id": "btu_UUr5_F8l"
      },
      "execution_count": null,
      "outputs": []
    },
    {
      "cell_type": "code",
      "source": [
        "a=\"statistics\"\n",
        "s=set(a)\n",
        "s"
      ],
      "metadata": {
        "id": "5ZrsXxFn_HP-"
      },
      "execution_count": null,
      "outputs": []
    },
    {
      "cell_type": "code",
      "source": [
        "com=[\"사원\",\"대리\",\"과장\",\"팀장\",\"대리\",\"과장\"]\n"
      ],
      "metadata": {
        "id": "OytKNHZv_VIk"
      },
      "execution_count": null,
      "outputs": []
    },
    {
      "cell_type": "code",
      "source": [
        "s_com=set(com)"
      ],
      "metadata": {
        "id": "6Ln42iPO_tGG"
      },
      "execution_count": null,
      "outputs": []
    },
    {
      "cell_type": "code",
      "source": [
        "s_com"
      ],
      "metadata": {
        "id": "nqINOhKz_wiN"
      },
      "execution_count": null,
      "outputs": []
    },
    {
      "cell_type": "code",
      "source": [
        "a=set([1,2,3])\n",
        "b=set([2,3,4])"
      ],
      "metadata": {
        "id": "H9O8zrU4_5q8"
      },
      "execution_count": null,
      "outputs": []
    },
    {
      "cell_type": "code",
      "source": [
        "a"
      ],
      "metadata": {
        "id": "WrkGp8o9AKRu"
      },
      "execution_count": null,
      "outputs": []
    },
    {
      "cell_type": "code",
      "source": [
        "b"
      ],
      "metadata": {
        "id": "nh3gpQ5MAK73"
      },
      "execution_count": null,
      "outputs": []
    },
    {
      "cell_type": "code",
      "source": [
        "a&b"
      ],
      "metadata": {
        "id": "xxZiX8A3AMCt"
      },
      "execution_count": null,
      "outputs": []
    },
    {
      "cell_type": "code",
      "source": [
        "a|b"
      ],
      "metadata": {
        "id": "8pjZRwniAQSM"
      },
      "execution_count": null,
      "outputs": []
    },
    {
      "cell_type": "code",
      "source": [
        "a-b"
      ],
      "metadata": {
        "id": "k5HQvPeIAR7W"
      },
      "execution_count": null,
      "outputs": []
    },
    {
      "cell_type": "code",
      "source": [
        "a.update([5,6,7])"
      ],
      "metadata": {
        "id": "3VT453_mATLT"
      },
      "execution_count": null,
      "outputs": []
    },
    {
      "cell_type": "code",
      "source": [
        "a"
      ],
      "metadata": {
        "id": "cN2rSwjVAftH"
      },
      "execution_count": null,
      "outputs": []
    },
    {
      "cell_type": "code",
      "source": [
        "a.remove(3)"
      ],
      "metadata": {
        "id": "_H-s1i8bAhL2"
      },
      "execution_count": null,
      "outputs": []
    },
    {
      "cell_type": "code",
      "source": [
        "a"
      ],
      "metadata": {
        "id": "PSUoyZ_wAwX5"
      },
      "execution_count": null,
      "outputs": []
    },
    {
      "cell_type": "code",
      "source": [
        "a.remove(5)"
      ],
      "metadata": {
        "id": "QkyBV_ovAyKI"
      },
      "execution_count": null,
      "outputs": []
    },
    {
      "cell_type": "code",
      "source": [
        "a"
      ],
      "metadata": {
        "id": "3t7_me_QA1ro"
      },
      "execution_count": null,
      "outputs": []
    },
    {
      "cell_type": "code",
      "source": [
        "a.remove(7)\n",
        "a"
      ],
      "metadata": {
        "id": "AMk2xL8aBHmQ"
      },
      "execution_count": null,
      "outputs": []
    },
    {
      "cell_type": "code",
      "source": [
        "a=100\n",
        "b=150\n",
        "c=200"
      ],
      "metadata": {
        "id": "Nrcs8xeXBKBS"
      },
      "execution_count": null,
      "outputs": []
    },
    {
      "cell_type": "code",
      "source": [
        "print(\"사과 1개의 간격은 %d원 입니다.\"%a)"
      ],
      "metadata": {
        "id": "vp01B3lLBQMS"
      },
      "execution_count": null,
      "outputs": []
    },
    {
      "cell_type": "code",
      "source": [
        "print(\"사과 2개의 간격은 %d원 입니다.\"%b)"
      ],
      "metadata": {
        "id": "dQH_Y-NHBcvl"
      },
      "execution_count": null,
      "outputs": []
    },
    {
      "cell_type": "code",
      "source": [],
      "metadata": {
        "id": "bM8FEM5VB1kw"
      },
      "execution_count": null,
      "outputs": []
    },
    {
      "cell_type": "code",
      "source": [
        "print(\"사과 3개의 간격은 %d원 입니다.\"%c)"
      ],
      "metadata": {
        "id": "PFPmtH--BjHB"
      },
      "execution_count": null,
      "outputs": []
    },
    {
      "cell_type": "code",
      "source": [
        "print(\"사과 1개의 간격은 %d원 입니다.사과 2개의 간격은 %d원 입니다.\"%(a,b))"
      ],
      "metadata": {
        "id": "-fpY_c1ABmdM"
      },
      "execution_count": null,
      "outputs": []
    },
    {
      "cell_type": "code",
      "source": [
        "a=100.50\n",
        "b=150.50\n",
        "c=250"
      ],
      "metadata": {
        "id": "EwtWsPFBB8-K"
      },
      "execution_count": null,
      "outputs": []
    },
    {
      "cell_type": "code",
      "source": [
        "print(\"사과 2개의 간격은 %f원 입니다.\"%b)"
      ],
      "metadata": {
        "id": "P9ISdyCKCGOt"
      },
      "execution_count": null,
      "outputs": []
    },
    {
      "cell_type": "code",
      "source": [
        "print(\"사과 2개의 간격은 %f원 입니다.\"%b)"
      ],
      "metadata": {
        "id": "pvoEtWM4rU1j"
      },
      "execution_count": null,
      "outputs": []
    },
    {
      "cell_type": "code",
      "source": [
        "d=\"구진모\"\n",
        "print(\"%s 고객님, 안녕하세요\"%d)\n",
        "print(\"사과 1개의 간격은 %d원 입니다.\"%a)"
      ],
      "metadata": {
        "id": "RI8d4HcpCLnP"
      },
      "execution_count": null,
      "outputs": []
    },
    {
      "cell_type": "code",
      "source": [
        "#if\n",
        "\n",
        "1<2"
      ],
      "metadata": {
        "id": "dQINBcQCDBUe"
      },
      "execution_count": null,
      "outputs": []
    },
    {
      "cell_type": "code",
      "source": [
        "1>2"
      ],
      "metadata": {
        "id": "aI-mpwizWnDR"
      },
      "execution_count": null,
      "outputs": []
    },
    {
      "cell_type": "code",
      "source": [
        "1<=2"
      ],
      "metadata": {
        "id": "wlYzky_SWpJK"
      },
      "execution_count": null,
      "outputs": []
    },
    {
      "cell_type": "code",
      "source": [
        "1and 0\n",
        "#1&0"
      ],
      "metadata": {
        "id": "iXLighKHWvYK"
      },
      "execution_count": null,
      "outputs": []
    },
    {
      "cell_type": "code",
      "source": [
        "1 or 0\n",
        "#1|0"
      ],
      "metadata": {
        "id": "uigPPGryW5FU"
      },
      "execution_count": null,
      "outputs": []
    },
    {
      "cell_type": "code",
      "source": [
        "not 1"
      ],
      "metadata": {
        "id": "fy8gxax-W82m"
      },
      "execution_count": null,
      "outputs": []
    },
    {
      "cell_type": "code",
      "source": [
        "not 0"
      ],
      "metadata": {
        "id": "BmXc6RI5W-C1"
      },
      "execution_count": null,
      "outputs": []
    },
    {
      "cell_type": "code",
      "source": [
        "\"a\" in \"abc\""
      ],
      "metadata": {
        "id": "GhuzIDyEXdXK"
      },
      "execution_count": null,
      "outputs": []
    },
    {
      "cell_type": "code",
      "source": [
        "\"a\" in \"bc\""
      ],
      "metadata": {
        "id": "1sYrbKXGXi6A"
      },
      "execution_count": null,
      "outputs": []
    },
    {
      "cell_type": "code",
      "source": [
        "1in [0,1]"
      ],
      "metadata": {
        "id": "LxzdTnB_XQeS"
      },
      "execution_count": null,
      "outputs": []
    },
    {
      "cell_type": "code",
      "source": [
        "1 in [0,2,3,4]"
      ],
      "metadata": {
        "id": "3E8WfzfKXpDf"
      },
      "execution_count": null,
      "outputs": []
    },
    {
      "cell_type": "code",
      "source": [
        "1 not in [0,2,3,4]"
      ],
      "metadata": {
        "id": "r84G-YQ3Xs-1"
      },
      "execution_count": null,
      "outputs": []
    },
    {
      "cell_type": "code",
      "source": [
        "score=75\n",
        "if score > 90:\n",
        "    print(\"A\")\n",
        "else :\n",
        "    print(\"B\")"
      ],
      "metadata": {
        "id": "IdTMPKsRXxCB"
      },
      "execution_count": null,
      "outputs": []
    },
    {
      "cell_type": "code",
      "source": [
        "score=90\n",
        "if score >= 90:\n",
        "    print(\"A\")\n",
        "else :\n",
        "    print(\"B\")"
      ],
      "metadata": {
        "id": "DpbPv82SYjcZ"
      },
      "execution_count": null,
      "outputs": []
    },
    {
      "cell_type": "code",
      "source": [
        "score=50\n",
        "if score >= 90:\n",
        "    print(\"A\")\n",
        "else :\n",
        "    if score > 80:\n",
        "        print(\"B\")\n",
        "    else :\n",
        "        if score > 70:\n",
        "            print(\"C\")\n",
        "        else :\n",
        "            if score > 60:\n",
        "                print(\"D\")\n",
        "            else :\n",
        "                 print(\"F\")"
      ],
      "metadata": {
        "id": "-9gC5ArzYqSr"
      },
      "execution_count": null,
      "outputs": []
    },
    {
      "cell_type": "code",
      "source": [],
      "metadata": {
        "id": "2SBfa4MUZshc"
      },
      "execution_count": null,
      "outputs": []
    },
    {
      "cell_type": "code",
      "source": [
        "score=75\n",
        "\n",
        "\n",
        "if score >= 90:\n",
        "    print(\"A\")\n",
        "elif score > 80:\n",
        "     print(\"B\")\n",
        "elif score > 70:\n",
        "     print(\"C\")\n",
        "elif score > 60:\n",
        "     print(\"D\")\n",
        "else :\n",
        "      print(\"F\")"
      ],
      "metadata": {
        "id": "kr8hkXPMaLkx"
      },
      "execution_count": null,
      "outputs": []
    },
    {
      "cell_type": "code",
      "source": [
        "1/0"
      ],
      "metadata": {
        "id": "XRd_dj1OaNMu"
      },
      "execution_count": null,
      "outputs": []
    },
    {
      "cell_type": "code",
      "source": [
        "try : \n",
        "     1/0\n",
        "except:\n",
        "     print(\"분모가 0이 나왔음\")\n",
        "else:\n",
        "     print(\"분모 이상없음\")"
      ],
      "metadata": {
        "id": "bv0iB-7ZbmaW"
      },
      "execution_count": null,
      "outputs": []
    },
    {
      "cell_type": "code",
      "source": [
        "[] #while.for"
      ],
      "metadata": {
        "id": "8mbV5CqHbplC"
      },
      "execution_count": null,
      "outputs": []
    },
    {
      "cell_type": "code",
      "source": [
        "i=0\n",
        "while i < 10 :\n",
        "      i=i+1\n",
        "      print(i)"
      ],
      "metadata": {
        "id": "9LMzZzafdHzf"
      },
      "execution_count": null,
      "outputs": []
    },
    {
      "cell_type": "code",
      "source": [
        "for i in range(10):\n",
        "      print(i)"
      ],
      "metadata": {
        "id": "5mOxm_X5dTnr"
      },
      "execution_count": null,
      "outputs": []
    },
    {
      "cell_type": "code",
      "source": [
        "j = 0\n",
        "for i in range(10):\n",
        "    j += i\n",
        "    print(i)"
      ],
      "metadata": {
        "id": "cmLzlYWqebsV"
      },
      "execution_count": null,
      "outputs": []
    },
    {
      "cell_type": "code",
      "source": [
        "for i in range(5,10, 2):\n",
        "    print(i, end = \" \")"
      ],
      "metadata": {
        "id": "wwWaCJZPes9U"
      },
      "execution_count": null,
      "outputs": []
    },
    {
      "cell_type": "code",
      "source": [
        "def f(a):\n",
        "      out = a/3\n",
        "      return out"
      ],
      "metadata": {
        "id": "gPd3WjHPf6SU"
      },
      "execution_count": null,
      "outputs": []
    },
    {
      "cell_type": "code",
      "source": [
        "f(30)"
      ],
      "metadata": {
        "id": "-jtG3L_jgG3b"
      },
      "execution_count": null,
      "outputs": []
    },
    {
      "cell_type": "code",
      "source": [
        "def div_3(a):\n",
        "      out = a/3\n",
        "      return out"
      ],
      "metadata": {
        "id": "8Iezl9pzg1V-"
      },
      "execution_count": null,
      "outputs": []
    },
    {
      "cell_type": "code",
      "source": [
        "div_3(30)"
      ],
      "metadata": {
        "id": "is-pQ5VsgWyy"
      },
      "execution_count": null,
      "outputs": []
    },
    {
      "cell_type": "code",
      "source": [],
      "metadata": {
        "id": "mGjMU8kdg0ka"
      },
      "execution_count": null,
      "outputs": []
    },
    {
      "cell_type": "code",
      "source": [],
      "metadata": {
        "id": "c6QxvmpHgjsW"
      },
      "execution_count": null,
      "outputs": []
    }
  ]
}